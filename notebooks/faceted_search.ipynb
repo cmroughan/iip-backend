{
 "cells": [
  {
   "cell_type": "code",
   "execution_count": 37,
   "id": "52af5f47-1fd4-49bf-8f64-1474035bff00",
   "metadata": {},
   "outputs": [],
   "source": [
    "from iip_search import db, models\n",
    "from sqlalchemy import func\n",
    "from sqlalchemy.dialects.postgresql import ARRAY\n",
    "from sqlalchemy.dialects.postgresql import INTEGER"
   ]
  },
  {
   "cell_type": "code",
   "execution_count": 38,
   "id": "b73b5bfa-8c53-417c-a766-de451bd4fa4c",
   "metadata": {},
   "outputs": [],
   "source": [
    "SessionLocal = db.SessionLocal"
   ]
  },
  {
   "cell_type": "code",
   "execution_count": 61,
   "id": "17f76f36-830a-4b94-805f-9473c33e19ac",
   "metadata": {},
   "outputs": [
    {
     "name": "stdout",
     "output_type": "stream",
     "text": [
      "[('bone', 6), ('clay', 725), ('glass', 28), ('granite', 2), ('kurkar', 1), ('lead', 10), ('limestone', 221), ('marble', 272), ('metal', 45), ('material_other', 19), ('stone.other', 148), ('plaster', 30), ('stone', 692), ('stone.limestone', 2), ('stone.marble', 11), ('material_unknown', 174), ('stone.unknown', 12)]\n"
     ]
    }
   ],
   "source": [
    "with SessionLocal() as session:\n",
    "    # results = (\n",
    "    #     session.query(\n",
    "    #         models.Inscription.id,\n",
    "    #         models.City.id,\n",
    "    #         func.array_agg(models.IIPForm.id, type_=ARRAY(INTEGER)).label(\"iip_forms_ids\"),\n",
    "    #         func.array_agg(models.IIPGenre.id, type_=ARRAY(INTEGER)).label(\"iip_genres_ids\"),\n",
    "    #         func.array_agg(models.IIPMaterial.id, type_=ARRAY(INTEGER)).label(\"iip_materials_ids\"),\n",
    "    #         models.IIPPreservation.id,\n",
    "    #         func.array_agg(models.IIPReligion.id, type_=ARRAY(INTEGER)).label(\"iip_religions_ids\"),\n",
    "    #         func.array_agg(models.IIPWriting.id, type_=ARRAY(INTEGER)).label(\"iip_writings_ids\"),\n",
    "    #         func.array_agg(models.Language.id, type_=ARRAY(INTEGER)).label(\"iip_languages_ids\"),\n",
    "    #     )\n",
    "    #     .outerjoin(models.Inscription.city)\n",
    "    #     .outerjoin(models.Inscription.iip_forms)\n",
    "    #     .outerjoin(models.Inscription.iip_genres)\n",
    "    #     .outerjoin(models.Inscription.iip_materials)\n",
    "    #     .outerjoin(models.Inscription.iip_preservation)\n",
    "    #     .outerjoin(models.Inscription.iip_religions)\n",
    "    #     .outerjoin(models.Inscription.iip_writings)\n",
    "    #     .outerjoin(models.Inscription.languages)\n",
    "    #     .group_by(models.Inscription.id, models.City.id, models.IIPPreservation.id)\n",
    "    # )\n",
    "\n",
    "    results = (\n",
    "        session.query(models.IIPMaterial.xml_id, func.count(models.Inscription.id))\n",
    "        .join(models.IIPMaterial.inscriptions)\n",
    "        .group_by(models.IIPMaterial.id)\n",
    "        .order_by(\n",
    "            func.lower(models.IIPMaterial.description), func.lower(models.IIPMaterial.xml_id)\n",
    "        )\n",
    "        .where(models.Inscription.id.in_(list(range(2000, 5000))))\n",
    "        .all()\n",
    "    )\n",
    "    print(results)"
   ]
  }
 ],
 "metadata": {
  "kernelspec": {
   "display_name": "Python 3 (ipykernel)",
   "language": "python",
   "name": "python3"
  },
  "language_info": {
   "codemirror_mode": {
    "name": "ipython",
    "version": 3
   },
   "file_extension": ".py",
   "mimetype": "text/x-python",
   "name": "python",
   "nbconvert_exporter": "python",
   "pygments_lexer": "ipython3",
   "version": "3.11.5"
  }
 },
 "nbformat": 4,
 "nbformat_minor": 5
}
